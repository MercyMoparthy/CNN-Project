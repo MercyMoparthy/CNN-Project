{
  "nbformat": 4,
  "nbformat_minor": 0,
  "metadata": {
    "colab": {
      "provenance": [],
      "gpuType": "T4",
      "authorship_tag": "ABX9TyOsmj4OThUATpI8qBIPTaMd",
      "include_colab_link": true
    },
    "kernelspec": {
      "name": "python3",
      "display_name": "Python 3"
    },
    "language_info": {
      "name": "python"
    },
    "accelerator": "GPU"
  },
  "cells": [
    {
      "cell_type": "markdown",
      "metadata": {
        "id": "view-in-github",
        "colab_type": "text"
      },
      "source": [
        "<a href=\"https://colab.research.google.com/github/MercyMoparthy/CNN-Project/blob/main/DeploymentModel.ipynb\" target=\"_parent\"><img src=\"https://colab.research.google.com/assets/colab-badge.svg\" alt=\"Open In Colab\"/></a>"
      ]
    },
    {
      "cell_type": "code",
      "execution_count": null,
      "metadata": {
        "id": "Eiy5gfdav1io"
      },
      "outputs": [],
      "source": [
        "!pip install tensorflow\n",
        "!pip install gradio\n",
        "\n",
        "import gradio as gr\n",
        "import tensorflow as tf\n",
        "import numpy as np\n",
        "from tensorflow.keras.applications.resnet_v2 import preprocess_input\n",
        "from tensorflow.keras.preprocessing import image"
      ]
    },
    {
      "cell_type": "code",
      "source": [
        "#/content/drive/MyDrive/Colab Notebooks/CNNResNetModel.keras"
      ],
      "metadata": {
        "colab": {
          "base_uri": "https://localhost:8080/"
        },
        "id": "7IhH43AlwJeO",
        "outputId": "20458777-21ec-450a-e26c-d95423ed8afb"
      },
      "execution_count": 14,
      "outputs": [
        {
          "output_type": "stream",
          "name": "stdout",
          "text": [
            "Mounted at /content/drive\n"
          ]
        }
      ]
    },
    {
      "cell_type": "code",
      "source": [
        "import os\n",
        "import tensorflow as tf\n",
        "import zipfile # Import zipfile to check if it's a valid zip\n",
        "\n",
        "model_path = \"/content/drive/MyDrive/Colab Notebooks/CNNResNetModel.keras\"\n",
        "\n",
        "if os.path.exists(model_path):\n",
        "    print(f\"File found at: {model_path}\")\n",
        "    # Add a check to see if the file is readable\n",
        "    if os.access(model_path, os.R_OK):\n",
        "        print(\"File is readable.\")\n",
        "        try:\n",
        "            # Attempt to load the model\n",
        "            model = tf.keras.models.load_model(model_path)\n",
        "            print(\"Model loaded successfully.\")\n",
        "        except ValueError as e:\n",
        "            # Catch the specific ValueError from load_model for more context\n",
        "            print(f\"Error loading model: {e}\")\n",
        "            # Add a check to see if it's a valid zip file (as .keras is a zip format)\n",
        "            if not zipfile.is_zipfile(model_path):\n",
        "                print(\"Error: The file does not appear to be a valid .keras zip file.\")\n",
        "            else:\n",
        "                print(\"The file appears to be a zip file, but there was an error loading the model.\")\n",
        "        except Exception as e:\n",
        "            # Catch any other potential exceptions during loading\n",
        "            print(f\"An unexpected error occurred while loading the model: {e}\")\n",
        "    else:\n",
        "        print(\"Error: File exists but is not readable. Check file permissions.\")\n",
        "else:\n",
        "    print(f\"Error: Model file not found at the specified path: {model_path}\")\n"
      ],
      "metadata": {
        "colab": {
          "base_uri": "https://localhost:8080/"
        },
        "id": "i-FFTXqx1GtF",
        "outputId": "a2912fc3-f95b-43c3-add3-97d2ace7aff4"
      },
      "execution_count": 20,
      "outputs": [
        {
          "output_type": "stream",
          "name": "stdout",
          "text": [
            "File found at: /content/drive/MyDrive/Colab Notebooks/CNNResNetModel.keras\n",
            "File is readable.\n",
            "Model loaded successfully.\n"
          ]
        }
      ]
    },
    {
      "cell_type": "code",
      "source": [
        "class_names = ['airplane', 'automobile', 'bird', 'cat', 'deer',\n",
        "               'dog', 'frog', 'horse', 'ship', 'truck']\n",
        "\n",
        "# Define preprocessing and prediction function\n",
        "def classify_image(img):\n",
        "    img = img.resize((128, 128))  # Resize to model input shape\n",
        "    img_array = image.img_to_array(img)\n",
        "    img_array = np.expand_dims(img_array, axis=0)\n",
        "    img_array = preprocess_input(img_array)\n",
        "\n",
        "    predictions = model.predict(img_array)\n",
        "    top_class = np.argmax(predictions[0])\n",
        "    confidence = float(predictions[0][top_class])\n",
        "\n",
        "    return {class_names[top_class]: confidence}"
      ],
      "metadata": {
        "id": "ayP1ZAVd2bmW"
      },
      "execution_count": 21,
      "outputs": []
    },
    {
      "cell_type": "code",
      "source": [
        "interface = gr.Interface(\n",
        "    fn=classify_image,\n",
        "    inputs=gr.Image(type=\"pil\"),\n",
        "    outputs=gr.Label(num_top_classes=1),\n",
        "    title=\"CIFAR-10 Image Classifier with ResNet\"\n",
        ")\n",
        "\n",
        "interface.launch()"
      ],
      "metadata": {
        "colab": {
          "base_uri": "https://localhost:8080/",
          "height": 646
        },
        "id": "jT6sq_vv2m3U",
        "outputId": "e8ebdba8-6095-4506-92ff-00f4120f57c5"
      },
      "execution_count": 22,
      "outputs": [
        {
          "output_type": "stream",
          "name": "stdout",
          "text": [
            "It looks like you are running Gradio on a hosted a Jupyter notebook. For the Gradio app to work, sharing must be enabled. Automatically setting `share=True` (you can turn this off by setting `share=False` in `launch()` explicitly).\n",
            "\n",
            "Colab notebook detected. To show errors in colab notebook, set debug=True in launch()\n",
            "* Running on public URL: https://adf08b332d0bfba5f6.gradio.live\n",
            "\n",
            "This share link expires in 1 week. For free permanent hosting and GPU upgrades, run `gradio deploy` from the terminal in the working directory to deploy to Hugging Face Spaces (https://huggingface.co/spaces)\n"
          ]
        },
        {
          "output_type": "display_data",
          "data": {
            "text/plain": [
              "<IPython.core.display.HTML object>"
            ],
            "text/html": [
              "<div><iframe src=\"https://adf08b332d0bfba5f6.gradio.live\" width=\"100%\" height=\"500\" allow=\"autoplay; camera; microphone; clipboard-read; clipboard-write;\" frameborder=\"0\" allowfullscreen></iframe></div>"
            ]
          },
          "metadata": {}
        },
        {
          "output_type": "execute_result",
          "data": {
            "text/plain": []
          },
          "metadata": {},
          "execution_count": 22
        }
      ]
    }
  ]
}