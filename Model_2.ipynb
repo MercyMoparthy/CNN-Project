{
  "nbformat": 4,
  "nbformat_minor": 0,
  "metadata": {
    "colab": {
      "provenance": [],
      "authorship_tag": "ABX9TyOkIjyBtKutTFC2iEZpOclv",
      "include_colab_link": true
    },
    "kernelspec": {
      "name": "python3",
      "display_name": "Python 3"
    },
    "language_info": {
      "name": "python"
    }
  },
  "cells": [
    {
      "cell_type": "markdown",
      "metadata": {
        "id": "view-in-github",
        "colab_type": "text"
      },
      "source": [
        "<a href=\"https://colab.research.google.com/github/MercyMoparthy/CNN-Project/blob/main/Model_2.ipynb\" target=\"_parent\"><img src=\"https://colab.research.google.com/assets/colab-badge.svg\" alt=\"Open In Colab\"/></a>"
      ]
    },
    {
      "cell_type": "markdown",
      "source": [
        "## Import Libraries\n"
      ],
      "metadata": {
        "id": "j3RF6vmdDV15"
      }
    },
    {
      "cell_type": "code",
      "source": [
        "import numpy as np\n",
        "import matplotlib.pyplot as plt\n",
        "import tensorflow as tf\n",
        "from tensorflow.keras import layers, models, regularizers\n",
        "from tensorflow.keras.datasets import cifar10\n",
        "from tensorflow.keras.utils import to_categorical\n",
        "from tensorflow.keras.callbacks import LearningRateScheduler, EarlyStopping\n",
        "from sklearn.model_selection import train_test_split\n",
        "from sklearn.metrics import confusion_matrix, classification_report\n",
        "import seaborn as sns"
      ],
      "metadata": {
        "id": "NXcdFLJwDXyb"
      },
      "execution_count": null,
      "outputs": []
    },
    {
      "cell_type": "markdown",
      "source": [
        "## Data Preprocessing"
      ],
      "metadata": {
        "id": "vLiGxvIWD6RI"
      }
    },
    {
      "cell_type": "code",
      "source": [],
      "metadata": {
        "id": "u9BuGRQ0D9eo"
      },
      "execution_count": null,
      "outputs": []
    },
    {
      "cell_type": "markdown",
      "source": [
        "## Plot for Data Preprocessing"
      ],
      "metadata": {
        "id": "H2Vff71LD-QA"
      }
    },
    {
      "cell_type": "code",
      "source": [],
      "metadata": {
        "id": "HjP9pkATEDkI"
      },
      "execution_count": null,
      "outputs": []
    },
    {
      "cell_type": "markdown",
      "source": [
        "## Build the Model"
      ],
      "metadata": {
        "id": "82Jtnwf9ED94"
      }
    },
    {
      "cell_type": "code",
      "source": [],
      "metadata": {
        "id": "U3c0pnHIEXGs"
      },
      "execution_count": null,
      "outputs": []
    },
    {
      "cell_type": "markdown",
      "source": [
        "## Plot the model"
      ],
      "metadata": {
        "id": "oYa8cLsLElM6"
      }
    },
    {
      "cell_type": "code",
      "source": [],
      "metadata": {
        "id": "G9UBn9d3En7e"
      },
      "execution_count": null,
      "outputs": []
    },
    {
      "cell_type": "markdown",
      "source": [
        "## Training the Model"
      ],
      "metadata": {
        "id": "zKNSgOJFEXsy"
      }
    },
    {
      "cell_type": "code",
      "source": [],
      "metadata": {
        "id": "UyjClDpuEbEx"
      },
      "execution_count": null,
      "outputs": []
    },
    {
      "cell_type": "markdown",
      "source": [
        "## Plot the Training Model"
      ],
      "metadata": {
        "id": "xiUF7aJ1EbsJ"
      }
    },
    {
      "cell_type": "code",
      "source": [],
      "metadata": {
        "id": "GbXHSp5AEkYR"
      },
      "execution_count": null,
      "outputs": []
    },
    {
      "cell_type": "markdown",
      "source": [
        "## Testing the Model"
      ],
      "metadata": {
        "id": "oKKE1I_QEo3I"
      }
    },
    {
      "cell_type": "code",
      "source": [],
      "metadata": {
        "id": "G4-nGns2Es4-"
      },
      "execution_count": null,
      "outputs": []
    },
    {
      "cell_type": "markdown",
      "source": [
        "## Plot for Testing Model"
      ],
      "metadata": {
        "id": "tjmcmlePEuDn"
      }
    },
    {
      "cell_type": "code",
      "source": [],
      "metadata": {
        "id": "xynyxgsLEycJ"
      },
      "execution_count": null,
      "outputs": []
    },
    {
      "cell_type": "markdown",
      "source": [
        "## Confusion Matrix"
      ],
      "metadata": {
        "id": "Ga2F7dI0E0_O"
      }
    },
    {
      "cell_type": "code",
      "source": [],
      "metadata": {
        "id": "RAg0bfQRE4OD"
      },
      "execution_count": null,
      "outputs": []
    },
    {
      "cell_type": "markdown",
      "source": [
        "## Transfer Learning"
      ],
      "metadata": {
        "id": "B_HHxP2XE7PK"
      }
    },
    {
      "cell_type": "code",
      "source": [],
      "metadata": {
        "id": "gpMnyKtMFCHL"
      },
      "execution_count": null,
      "outputs": []
    }
  ]
}